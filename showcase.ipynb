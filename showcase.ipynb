{
 "cells": [
  {
   "cell_type": "markdown",
   "id": "a801e4de",
   "metadata": {},
   "source": [
    "# Data Lake Showcase"
   ]
  },
  {
   "cell_type": "markdown",
   "id": "c1d86b91",
   "metadata": {},
   "source": [
    "## Environment Preparation"
   ]
  },
  {
   "cell_type": "code",
   "execution_count": 1,
   "id": "2c4920c7",
   "metadata": {
    "scrolled": false
   },
   "outputs": [
    {
     "name": "stderr",
     "output_type": "stream",
     "text": [
      "WARNING:root:'PYARROW_IGNORE_TIMEZONE' environment variable was not set. It is required to set this environment variable to '1' in both driver and executor sides if you use pyarrow>=2.0.0. pandas-on-Spark will set it for you but it does not work if there is a Spark context already launched.\n"
     ]
    }
   ],
   "source": [
    "import os\n",
    "\n",
    "import pandas as pd\n",
    "\n",
    "from pyspark.sql import SparkSession\n",
    "\n",
    "from hive_metastore_client.builders import DatabaseBuilder\n",
    "from hive_metastore_client import HiveMetastoreClient\n",
    "from hive_metastore_client.builders import (\n",
    "    ColumnBuilder,\n",
    "    SerDeInfoBuilder,\n",
    "    StorageDescriptorBuilder,\n",
    "    TableBuilder,\n",
    ")\n",
    "\n",
    "from local_settings import BUCKET_NAME"
   ]
  },
  {
   "cell_type": "markdown",
   "id": "ab888898",
   "metadata": {},
   "source": [
    "We use a data source in order to utilize Lynx's permissions"
   ]
  },
  {
   "cell_type": "markdown",
   "id": "653664c2",
   "metadata": {},
   "source": [
    "## Uploading a test file to the bucket"
   ]
  },
  {
   "cell_type": "code",
   "execution_count": null,
   "outputs": [],
   "source": [
    "from main import upload_file\n",
    "\n",
    "upload_file()"
   ],
   "metadata": {
    "collapsed": false,
    "pycharm": {
     "name": "#%%\n"
    }
   }
  },
  {
   "cell_type": "markdown",
   "id": "f4af028a",
   "metadata": {},
   "source": [
    "## Registering the file in Hive metastore"
   ]
  },
  {
   "cell_type": "markdown",
   "id": "e789fba6",
   "metadata": {},
   "source": [
    "### Create Hive metastore database"
   ]
  },
  {
   "cell_type": "markdown",
   "source": [
    "Configure Hive"
   ],
   "metadata": {
    "collapsed": false
   }
  },
  {
   "cell_type": "code",
   "execution_count": 2,
   "outputs": [
    {
     "data": {
      "text/plain": "'test_db_name'"
     },
     "execution_count": 2,
     "metadata": {},
     "output_type": "execute_result"
    }
   ],
   "source": [
    "HIVE_METASTORE_DB_NAME = \"test_db_name\"\n",
    "HIVE_METASTORE_DB_NAME"
   ],
   "metadata": {
    "collapsed": false,
    "pycharm": {
     "name": "#%%\n"
    }
   }
  },
  {
   "cell_type": "code",
   "execution_count": 3,
   "id": "f89051ad",
   "metadata": {},
   "outputs": [
    {
     "ename": "NameError",
     "evalue": "name 'DatabaseBuilder' is not defined",
     "output_type": "error",
     "traceback": [
      "\u001B[0;31m---------------------------------------------------------------------------\u001B[0m",
      "\u001B[0;31mNameError\u001B[0m                                 Traceback (most recent call last)",
      "\u001B[0;32m/var/folders/2t/5673p3_n6dv9rcn9zx_6f__c0000gn/T/ipykernel_19373/1069560237.py\u001B[0m in \u001B[0;36m<module>\u001B[0;34m\u001B[0m\n\u001B[1;32m      2\u001B[0m \u001B[0;34m\u001B[0m\u001B[0m\n\u001B[1;32m      3\u001B[0m \u001B[0;31m# Creates a Hive metastore database\u001B[0m\u001B[0;34m\u001B[0m\u001B[0;34m\u001B[0m\u001B[0;34m\u001B[0m\u001B[0m\n\u001B[0;32m----> 4\u001B[0;31m \u001B[0mdatabase\u001B[0m \u001B[0;34m=\u001B[0m \u001B[0mDatabaseBuilder\u001B[0m\u001B[0;34m(\u001B[0m\u001B[0mname\u001B[0m\u001B[0;34m=\u001B[0m\u001B[0mHIVE_METASTORE_DB_NAME\u001B[0m\u001B[0;34m)\u001B[0m\u001B[0;34m.\u001B[0m\u001B[0mbuild\u001B[0m\u001B[0;34m(\u001B[0m\u001B[0;34m)\u001B[0m\u001B[0;34m\u001B[0m\u001B[0;34m\u001B[0m\u001B[0m\n\u001B[0m\u001B[1;32m      5\u001B[0m \u001B[0;32mwith\u001B[0m \u001B[0mHiveMetastoreClient\u001B[0m\u001B[0;34m(\u001B[0m\u001B[0mHIVE_HOST\u001B[0m\u001B[0;34m,\u001B[0m \u001B[0mHIVE_PORT\u001B[0m\u001B[0;34m)\u001B[0m \u001B[0;32mas\u001B[0m \u001B[0mhive_metastore_client\u001B[0m\u001B[0;34m:\u001B[0m\u001B[0;34m\u001B[0m\u001B[0;34m\u001B[0m\u001B[0m\n\u001B[1;32m      6\u001B[0m     \u001B[0mhive_metastore_client\u001B[0m\u001B[0;34m.\u001B[0m\u001B[0mcreate_database\u001B[0m\u001B[0;34m(\u001B[0m\u001B[0mdatabase\u001B[0m\u001B[0;34m)\u001B[0m\u001B[0;34m\u001B[0m\u001B[0;34m\u001B[0m\u001B[0m\n",
      "\u001B[0;31mNameError\u001B[0m: name 'DatabaseBuilder' is not defined"
     ]
    }
   ],
   "source": [
    "from utils.hive import create_hive_database\n",
    "\n",
    "create_hive_database(HIVE_METASTORE_DB_NAME)"
   ]
  },
  {
   "cell_type": "markdown",
   "id": "993dfb88",
   "metadata": {},
   "source": [
    "### Create Hive metastore table"
   ]
  },
  {
   "cell_type": "markdown",
   "id": "a32b36f1",
   "metadata": {},
   "source": [
    "#### Create the Hive metastore table"
   ]
  },
  {
   "cell_type": "markdown",
   "id": "969442cb",
   "metadata": {},
   "source": [
    "Example: https://github.com/quintoandar/hive-metastore-client/blob/main/examples/create_external_table.py"
   ]
  },
  {
   "cell_type": "code",
   "execution_count": null,
   "id": "39475201",
   "metadata": {
    "scrolled": true
   },
   "outputs": [],
   "source": [
    "from utils.showcase import create_showcase_table\n",
    "\n",
    "create_showcase_table()"
   ]
  },
  {
   "cell_type": "markdown",
   "id": "313b53fa",
   "metadata": {},
   "source": [
    "## Query the data"
   ]
  },
  {
   "cell_type": "markdown",
   "id": "1c136ad9",
   "metadata": {},
   "source": [
    "### Spark"
   ]
  },
  {
   "cell_type": "markdown",
   "id": "6c956447",
   "metadata": {},
   "source": [
    "Docs:\n",
    "- https://spark.apache.org/docs/latest/configuration.html\n",
    "- https://spark.apache.org/docs/latest/sql-data-sources-hive-tables.html"
   ]
  },
  {
   "cell_type": "code",
   "execution_count": null,
   "id": "f8332b35",
   "metadata": {},
   "outputs": [],
   "source": [
    "import os\n",
    "\n",
    "spark = (\n",
    "    SparkSession \n",
    "        .builder\n",
    "        .master(\"spark://localhost:7077\")\n",
    "        .appName(\"SparkHiveMetastoreTest\")\n",
    "        .config(\"spark.sql.uris\", \"thrift://localhost:9083\")\n",
    "        .config(\"hive.metastore.warehouse.dir\", \"thrift://localhost:9083\")\n",
    "        .enableHiveSupport()\n",
    "        .getOrCreate()\n",
    ")"
   ]
  },
  {
   "cell_type": "code",
   "execution_count": null,
   "id": "cc5803e1",
   "metadata": {},
   "outputs": [],
   "source": [
    "spark.sql(\"SHOW TABLES\").show()"
   ]
  },
  {
   "cell_type": "code",
   "execution_count": null,
   "id": "18ca95fc",
   "metadata": {},
   "outputs": [],
   "source": []
  }
 ],
 "metadata": {
  "kernelspec": {
   "display_name": "Python 3 (ipykernel)",
   "language": "python",
   "name": "python3"
  },
  "language_info": {
   "codemirror_mode": {
    "name": "ipython",
    "version": 3
   },
   "file_extension": ".py",
   "mimetype": "text/x-python",
   "name": "python",
   "nbconvert_exporter": "python",
   "pygments_lexer": "ipython3",
   "version": "3.7.8"
  }
 },
 "nbformat": 4,
 "nbformat_minor": 5
}