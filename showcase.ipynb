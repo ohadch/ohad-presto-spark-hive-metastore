{
 "cells": [
  {
   "cell_type": "markdown",
   "id": "a801e4de",
   "metadata": {},
   "source": [
    "# Data Lake Showcase"
   ]
  },
  {
   "cell_type": "markdown",
   "id": "c1d86b91",
   "metadata": {},
   "source": [
    "## Environment Preparation"
   ]
  },
  {
   "cell_type": "code",
   "execution_count": 1,
   "id": "2c4920c7",
   "metadata": {
    "scrolled": true
   },
   "outputs": [],
   "source": [
    "from dotenv import load_dotenv\n",
    "\n",
    "load_dotenv() \n",
    "\n",
    "\n",
    "import os\n",
    "\n",
    "import pandas as pd\n",
    "\n",
    "from pyspark.sql import SparkSession\n",
    "from utils.entrypoints import showcase_table_creation_using_hive"
   ]
  },
  {
   "cell_type": "markdown",
   "id": "f4af028a",
   "metadata": {},
   "source": [
    "## Registering the file in Hive metastore"
   ]
  },
  {
   "cell_type": "code",
   "execution_count": null,
   "id": "39475201",
   "metadata": {
    "scrolled": true
   },
   "outputs": [
    {
     "name": "stderr",
     "output_type": "stream",
     "text": [
      "2022-06-28 19:38:41,144 - utils.aws - INFO - Uploading file assets/test_csv.csv to bucket showcase\n",
      "2022-06-28 19:38:41,178 - /Users/ohadchaet/code/ohad/ohad-hive-metastore-spark-presto/utils/hive.py - INFO - Creating Hive database showcase\n",
      "2022-06-28 19:38:41,225 - /Users/ohadchaet/code/ohad/ohad-hive-metastore-spark-presto/utils/hive.py - INFO - Hive database showcase already exists\n",
      "2022-06-28 19:38:41,226 - utils.showcase - INFO - Creating showcase table test_csv in database showcase\n",
      "2022-06-28 19:38:41,227 - /Users/ohadchaet/code/ohad/ohad-hive-metastore-spark-presto/utils/hive.py - INFO - Creating Hive table test_csv in database showcase pointing to S3 bucket showcase and directory test_csv/, partition keys: []\n",
      "2022-06-28 19:38:41,304 - /Users/ohadchaet/code/ohad/ohad-hive-metastore-spark-presto/utils/hive.py - INFO - Creating Hive table test_csv in database showcase pointing to S3 bucket s3a://showcase/test_csv/, partition keys: []\n",
      "2022-06-28 19:38:41,305 - /Users/ohadchaet/code/ohad/ohad-hive-metastore-spark-presto/utils/hive.py - INFO - Storage descriptor: {'bucketCols': None,\n",
      " 'cols': [FieldSchema(name='string_field', type='string', comment=None),\n",
      "          FieldSchema(name='int_field', type='int', comment=None),\n",
      "          FieldSchema(name='float_field', type='double', comment=None),\n",
      "          FieldSchema(name='date_field', type='string', comment=None),\n",
      "          FieldSchema(name='timestamp_field', type='string', comment=None),\n",
      "          FieldSchema(name='datetime_field', type='string', comment=None),\n",
      "          FieldSchema(name='free_text_field', type='string', comment=None),\n",
      "          FieldSchema(name='boolean_field', type='boolean', comment=None),\n",
      "          FieldSchema(name='null_field', type='string', comment=None)],\n",
      " 'compressed': None,\n",
      " 'inputFormat': 'org.apache.hadoop.hive.ql.io.CSVInputFormat',\n",
      " 'location': 's3a://showcase/test_csv/',\n",
      " 'numBuckets': None,\n",
      " 'outputFormat': 'org.apache.hadoop.hive.ql.io.CSVOutputFormat',\n",
      " 'parameters': None,\n",
      " 'serdeInfo': SerDeInfo(name=None, serializationLib='org.apache.hadoop.hive.serde2.csv.CsvSerDe', parameters={}, description=None, serializerClass=None, deserializerClass=None, serdeType=None),\n",
      " 'skewedInfo': None,\n",
      " 'sortCols': None,\n",
      " 'storedAsSubDirectories': None}\n"
     ]
    }
   ],
   "source": [
    "from utils.showcase import create_showcase_table\n",
    "\n",
    "showcase_table_creation_using_hive(\"assets/test_csv.csv\")"
   ]
  },
  {
   "cell_type": "markdown",
   "id": "313b53fa",
   "metadata": {},
   "source": [
    "## Query the data"
   ]
  },
  {
   "cell_type": "markdown",
   "id": "1c136ad9",
   "metadata": {},
   "source": [
    "### Spark"
   ]
  },
  {
   "cell_type": "markdown",
   "id": "6c956447",
   "metadata": {},
   "source": [
    "Docs:\n",
    "- https://spark.apache.org/docs/latest/configuration.html\n",
    "- https://spark.apache.org/docs/latest/sql-data-sources-hive-tables.html"
   ]
  },
  {
   "cell_type": "code",
   "execution_count": null,
   "id": "f8332b35",
   "metadata": {},
   "outputs": [],
   "source": [
    "import os\n",
    "\n",
    "spark = (\n",
    "    SparkSession \n",
    "        .builder\n",
    "        .master(\"spark://localhost:7077\")\n",
    "        .appName(\"SparkHiveMetastoreTest\")\n",
    "        .config(\"spark.sql.uris\", \"thrift://localhost:9083\")\n",
    "        .config(\"hive.metastore.warehouse.dir\", \"thrift://localhost:9083\")\n",
    "        .enableHiveSupport()\n",
    "        .getOrCreate()\n",
    ")"
   ]
  },
  {
   "cell_type": "code",
   "execution_count": null,
   "id": "cc5803e1",
   "metadata": {},
   "outputs": [],
   "source": [
    "spark.sql(\"SHOW TABLES\").show()"
   ]
  },
  {
   "cell_type": "code",
   "execution_count": null,
   "id": "18ca95fc",
   "metadata": {},
   "outputs": [],
   "source": []
  }
 ],
 "metadata": {
  "kernelspec": {
   "display_name": "Python 3 (ipykernel)",
   "language": "python",
   "name": "python3"
  },
  "language_info": {
   "codemirror_mode": {
    "name": "ipython",
    "version": 3
   },
   "file_extension": ".py",
   "mimetype": "text/x-python",
   "name": "python",
   "nbconvert_exporter": "python",
   "pygments_lexer": "ipython3",
   "version": "3.7.11"
  }
 },
 "nbformat": 4,
 "nbformat_minor": 5
}
