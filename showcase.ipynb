{
 "cells": [
  {
   "cell_type": "markdown",
   "id": "a801e4de",
   "metadata": {},
   "source": [
    "# Data Lake Showcase"
   ]
  },
  {
   "cell_type": "markdown",
   "id": "c1d86b91",
   "metadata": {},
   "source": [
    "## Environment Preparation"
   ]
  },
  {
   "cell_type": "code",
   "execution_count": 1,
   "id": "2c4920c7",
   "metadata": {
    "scrolled": true
   },
   "outputs": [],
   "source": [
    "from dotenv import load_dotenv\n",
    "\n",
    "load_dotenv() \n",
    "\n",
    "\n",
    "import os\n",
    "\n",
    "import pandas as pd\n",
    "\n",
    "from pyspark.sql import SparkSession\n",
    "from utils.entrypoints import showcase_table_creation_using_hive"
   ]
  },
  {
   "cell_type": "markdown",
   "id": "f4af028a",
   "metadata": {},
   "source": [
    "## Registering the file in Hive metastore"
   ]
  },
  {
   "cell_type": "code",
   "execution_count": 2,
   "id": "39475201",
   "metadata": {
    "scrolled": true
   },
   "outputs": [
    {
     "name": "stderr",
     "output_type": "stream",
     "text": [
      "2022-06-28 19:38:41,144 - utils.aws - INFO - Uploading file assets/test_csv.csv to bucket showcase\n",
      "2022-06-28 19:38:41,178 - /Users/ohadchaet/code/ohad/ohad-hive-metastore-spark-presto/utils/hive.py - INFO - Creating Hive database showcase\n",
      "2022-06-28 19:38:41,225 - /Users/ohadchaet/code/ohad/ohad-hive-metastore-spark-presto/utils/hive.py - INFO - Hive database showcase already exists\n",
      "2022-06-28 19:38:41,226 - utils.showcase - INFO - Creating showcase table test_csv in database showcase\n",
      "2022-06-28 19:38:41,227 - /Users/ohadchaet/code/ohad/ohad-hive-metastore-spark-presto/utils/hive.py - INFO - Creating Hive table test_csv in database showcase pointing to S3 bucket showcase and directory test_csv/, partition keys: []\n",
      "2022-06-28 19:38:41,304 - /Users/ohadchaet/code/ohad/ohad-hive-metastore-spark-presto/utils/hive.py - INFO - Creating Hive table test_csv in database showcase pointing to S3 bucket s3a://showcase/test_csv/, partition keys: []\n",
      "2022-06-28 19:38:41,305 - /Users/ohadchaet/code/ohad/ohad-hive-metastore-spark-presto/utils/hive.py - INFO - Storage descriptor: {'bucketCols': None,\n",
      " 'cols': [FieldSchema(name='string_field', type='string', comment=None),\n",
      "          FieldSchema(name='int_field', type='int', comment=None),\n",
      "          FieldSchema(name='float_field', type='double', comment=None),\n",
      "          FieldSchema(name='date_field', type='string', comment=None),\n",
      "          FieldSchema(name='timestamp_field', type='string', comment=None),\n",
      "          FieldSchema(name='datetime_field', type='string', comment=None),\n",
      "          FieldSchema(name='free_text_field', type='string', comment=None),\n",
      "          FieldSchema(name='boolean_field', type='boolean', comment=None),\n",
      "          FieldSchema(name='null_field', type='string', comment=None)],\n",
      " 'compressed': None,\n",
      " 'inputFormat': 'org.apache.hadoop.hive.ql.io.CSVInputFormat',\n",
      " 'location': 's3a://showcase/test_csv/',\n",
      " 'numBuckets': None,\n",
      " 'outputFormat': 'org.apache.hadoop.hive.ql.io.CSVOutputFormat',\n",
      " 'parameters': None,\n",
      " 'serdeInfo': SerDeInfo(name=None, serializationLib='org.apache.hadoop.hive.serde2.csv.CsvSerDe', parameters={}, description=None, serializerClass=None, deserializerClass=None, serdeType=None),\n",
      " 'skewedInfo': None,\n",
      " 'sortCols': None,\n",
      " 'storedAsSubDirectories': None}\n"
     ]
    },
    {
     "ename": "KeyboardInterrupt",
     "evalue": "",
     "output_type": "error",
     "traceback": [
      "\u001b[0;31m---------------------------------------------------------------------------\u001b[0m",
      "\u001b[0;31mKeyboardInterrupt\u001b[0m                         Traceback (most recent call last)",
      "\u001b[0;32m/var/folders/2t/5673p3_n6dv9rcn9zx_6f__c0000gn/T/ipykernel_3759/1926835876.py\u001b[0m in \u001b[0;36m<module>\u001b[0;34m\u001b[0m\n\u001b[1;32m      1\u001b[0m \u001b[0;32mfrom\u001b[0m \u001b[0mutils\u001b[0m\u001b[0;34m.\u001b[0m\u001b[0mshowcase\u001b[0m \u001b[0;32mimport\u001b[0m \u001b[0mcreate_showcase_table\u001b[0m\u001b[0;34m\u001b[0m\u001b[0;34m\u001b[0m\u001b[0m\n\u001b[1;32m      2\u001b[0m \u001b[0;34m\u001b[0m\u001b[0m\n\u001b[0;32m----> 3\u001b[0;31m \u001b[0mshowcase_table_creation_using_hive\u001b[0m\u001b[0;34m(\u001b[0m\u001b[0;34m\"assets/test_csv.csv\"\u001b[0m\u001b[0;34m)\u001b[0m\u001b[0;34m\u001b[0m\u001b[0;34m\u001b[0m\u001b[0m\n\u001b[0m",
      "\u001b[0;32m~/code/ohad/ohad-hive-metastore-spark-presto/utils/entrypoints.py\u001b[0m in \u001b[0;36mshowcase_table_creation_using_hive\u001b[0;34m(local_file_path)\u001b[0m\n\u001b[1;32m     26\u001b[0m         \u001b[0mtable_name\u001b[0m\u001b[0;34m=\u001b[0m\u001b[0mtable_name\u001b[0m\u001b[0;34m,\u001b[0m\u001b[0;34m\u001b[0m\u001b[0;34m\u001b[0m\u001b[0m\n\u001b[1;32m     27\u001b[0m         \u001b[0mbucket_name\u001b[0m\u001b[0;34m=\u001b[0m\u001b[0mbucket_name\u001b[0m\u001b[0;34m,\u001b[0m\u001b[0;34m\u001b[0m\u001b[0;34m\u001b[0m\u001b[0m\n\u001b[0;32m---> 28\u001b[0;31m         \u001b[0mbucket_dir\u001b[0m\u001b[0;34m=\u001b[0m\u001b[0mbucket_dir\u001b[0m\u001b[0;34m\u001b[0m\u001b[0;34m\u001b[0m\u001b[0m\n\u001b[0m\u001b[1;32m     29\u001b[0m     )\n\u001b[1;32m     30\u001b[0m \u001b[0;34m\u001b[0m\u001b[0m\n",
      "\u001b[0;32m~/code/ohad/ohad-hive-metastore-spark-presto/utils/showcase.py\u001b[0m in \u001b[0;36mcreate_showcase_table\u001b[0;34m(db_name, table_name, bucket_name, bucket_dir)\u001b[0m\n\u001b[1;32m     50\u001b[0m         \u001b[0ms3_bucket\u001b[0m\u001b[0;34m=\u001b[0m\u001b[0mbucket_name\u001b[0m\u001b[0;34m,\u001b[0m\u001b[0;34m\u001b[0m\u001b[0;34m\u001b[0m\u001b[0m\n\u001b[1;32m     51\u001b[0m         \u001b[0ms3_dir\u001b[0m\u001b[0;34m=\u001b[0m\u001b[0mbucket_dir\u001b[0m\u001b[0;34m,\u001b[0m\u001b[0;34m\u001b[0m\u001b[0;34m\u001b[0m\u001b[0m\n\u001b[0;32m---> 52\u001b[0;31m         \u001b[0mpartition_keys\u001b[0m\u001b[0;34m=\u001b[0m\u001b[0;34m[\u001b[0m\u001b[0;34m]\u001b[0m\u001b[0;34m\u001b[0m\u001b[0;34m\u001b[0m\u001b[0m\n\u001b[0m\u001b[1;32m     53\u001b[0m     )\n",
      "\u001b[0;32m~/code/ohad/ohad-hive-metastore-spark-presto/utils/hive.py\u001b[0m in \u001b[0;36mcreate_hive_table_by_s3_dir\u001b[0;34m(db_name, table_name, s3_bucket, s3_dir, partition_keys)\u001b[0m\n\u001b[1;32m    132\u001b[0m         \u001b[0mtable_name\u001b[0m\u001b[0;34m=\u001b[0m\u001b[0mtable_name\u001b[0m\u001b[0;34m,\u001b[0m\u001b[0;34m\u001b[0m\u001b[0;34m\u001b[0m\u001b[0m\n\u001b[1;32m    133\u001b[0m         \u001b[0mstorage_descriptor\u001b[0m\u001b[0;34m=\u001b[0m\u001b[0mstorage_descriptor\u001b[0m\u001b[0;34m,\u001b[0m\u001b[0;34m\u001b[0m\u001b[0;34m\u001b[0m\u001b[0m\n\u001b[0;32m--> 134\u001b[0;31m         \u001b[0mpartition_keys\u001b[0m\u001b[0;34m=\u001b[0m\u001b[0mpartition_keys\u001b[0m\u001b[0;34m\u001b[0m\u001b[0;34m\u001b[0m\u001b[0m\n\u001b[0m\u001b[1;32m    135\u001b[0m     )\n",
      "\u001b[0;32m~/code/ohad/ohad-hive-metastore-spark-presto/utils/hive.py\u001b[0m in \u001b[0;36mcreate_hive_table\u001b[0;34m(db_name, table_name, storage_descriptor, partition_keys)\u001b[0m\n\u001b[1;32m    106\u001b[0m \u001b[0;34m\u001b[0m\u001b[0m\n\u001b[1;32m    107\u001b[0m     \u001b[0;32mwith\u001b[0m \u001b[0mHiveMetastoreClient\u001b[0m\u001b[0;34m(\u001b[0m\u001b[0mHIVE_HOST\u001b[0m\u001b[0;34m,\u001b[0m \u001b[0mHIVE_PORT\u001b[0m\u001b[0;34m)\u001b[0m \u001b[0;32mas\u001b[0m \u001b[0mhive_metastore_client\u001b[0m\u001b[0;34m:\u001b[0m\u001b[0;34m\u001b[0m\u001b[0;34m\u001b[0m\u001b[0m\n\u001b[0;32m--> 108\u001b[0;31m         \u001b[0mhive_metastore_client\u001b[0m\u001b[0;34m.\u001b[0m\u001b[0mcreate_external_table\u001b[0m\u001b[0;34m(\u001b[0m\u001b[0mtable\u001b[0m\u001b[0;34m)\u001b[0m\u001b[0;34m\u001b[0m\u001b[0;34m\u001b[0m\u001b[0m\n\u001b[0m\u001b[1;32m    109\u001b[0m \u001b[0;34m\u001b[0m\u001b[0m\n\u001b[1;32m    110\u001b[0m \u001b[0;34m\u001b[0m\u001b[0m\n",
      "\u001b[0;32m~/opt/anaconda3/envs/ohad-hive-metastore-spark-presto/lib/python3.7/site-packages/hive_metastore_client/hive_metastore_client.py\u001b[0m in \u001b[0;36mcreate_external_table\u001b[0;34m(self, table)\u001b[0m\n\u001b[1;32m    216\u001b[0m         \u001b[0mtable\u001b[0m\u001b[0;34m.\u001b[0m\u001b[0mparameters\u001b[0m \u001b[0;34m=\u001b[0m \u001b[0;34m{\u001b[0m\u001b[0;34m\"EXTERNAL\"\u001b[0m\u001b[0;34m:\u001b[0m \u001b[0;34m\"TRUE\"\u001b[0m\u001b[0;34m}\u001b[0m\u001b[0;34m\u001b[0m\u001b[0;34m\u001b[0m\u001b[0m\n\u001b[1;32m    217\u001b[0m         \u001b[0mtable\u001b[0m\u001b[0;34m.\u001b[0m\u001b[0mtableType\u001b[0m \u001b[0;34m=\u001b[0m \u001b[0;34m\"EXTERNAL_TABLE\"\u001b[0m\u001b[0;34m\u001b[0m\u001b[0;34m\u001b[0m\u001b[0m\n\u001b[0;32m--> 218\u001b[0;31m         \u001b[0mself\u001b[0m\u001b[0;34m.\u001b[0m\u001b[0mcreate_table\u001b[0m\u001b[0;34m(\u001b[0m\u001b[0mtable\u001b[0m\u001b[0;34m)\u001b[0m\u001b[0;34m\u001b[0m\u001b[0;34m\u001b[0m\u001b[0m\n\u001b[0m\u001b[1;32m    219\u001b[0m \u001b[0;34m\u001b[0m\u001b[0m\n\u001b[1;32m    220\u001b[0m     \u001b[0;34m@\u001b[0m\u001b[0mstaticmethod\u001b[0m\u001b[0;34m\u001b[0m\u001b[0;34m\u001b[0m\u001b[0m\n",
      "\u001b[0;32m~/opt/anaconda3/envs/ohad-hive-metastore-spark-presto/lib/python3.7/site-packages/thrift_files/libraries/thrift_hive_metastore_client/ThriftHiveMetastore.py\u001b[0m in \u001b[0;36mcreate_table\u001b[0;34m(self, tbl)\u001b[0m\n\u001b[1;32m   2631\u001b[0m         \"\"\"\n\u001b[1;32m   2632\u001b[0m         \u001b[0mself\u001b[0m\u001b[0;34m.\u001b[0m\u001b[0msend_create_table\u001b[0m\u001b[0;34m(\u001b[0m\u001b[0mtbl\u001b[0m\u001b[0;34m)\u001b[0m\u001b[0;34m\u001b[0m\u001b[0;34m\u001b[0m\u001b[0m\n\u001b[0;32m-> 2633\u001b[0;31m         \u001b[0mself\u001b[0m\u001b[0;34m.\u001b[0m\u001b[0mrecv_create_table\u001b[0m\u001b[0;34m(\u001b[0m\u001b[0;34m)\u001b[0m\u001b[0;34m\u001b[0m\u001b[0;34m\u001b[0m\u001b[0m\n\u001b[0m\u001b[1;32m   2634\u001b[0m \u001b[0;34m\u001b[0m\u001b[0m\n\u001b[1;32m   2635\u001b[0m     \u001b[0;32mdef\u001b[0m \u001b[0msend_create_table\u001b[0m\u001b[0;34m(\u001b[0m\u001b[0mself\u001b[0m\u001b[0;34m,\u001b[0m \u001b[0mtbl\u001b[0m\u001b[0;34m)\u001b[0m\u001b[0;34m:\u001b[0m\u001b[0;34m\u001b[0m\u001b[0;34m\u001b[0m\u001b[0m\n",
      "\u001b[0;32m~/opt/anaconda3/envs/ohad-hive-metastore-spark-presto/lib/python3.7/site-packages/thrift_files/libraries/thrift_hive_metastore_client/ThriftHiveMetastore.py\u001b[0m in \u001b[0;36mrecv_create_table\u001b[0;34m(self)\u001b[0m\n\u001b[1;32m   2643\u001b[0m     \u001b[0;32mdef\u001b[0m \u001b[0mrecv_create_table\u001b[0m\u001b[0;34m(\u001b[0m\u001b[0mself\u001b[0m\u001b[0;34m)\u001b[0m\u001b[0;34m:\u001b[0m\u001b[0;34m\u001b[0m\u001b[0;34m\u001b[0m\u001b[0m\n\u001b[1;32m   2644\u001b[0m         \u001b[0miprot\u001b[0m \u001b[0;34m=\u001b[0m \u001b[0mself\u001b[0m\u001b[0;34m.\u001b[0m\u001b[0m_iprot\u001b[0m\u001b[0;34m\u001b[0m\u001b[0;34m\u001b[0m\u001b[0m\n\u001b[0;32m-> 2645\u001b[0;31m         \u001b[0;34m(\u001b[0m\u001b[0mfname\u001b[0m\u001b[0;34m,\u001b[0m \u001b[0mmtype\u001b[0m\u001b[0;34m,\u001b[0m \u001b[0mrseqid\u001b[0m\u001b[0;34m)\u001b[0m \u001b[0;34m=\u001b[0m \u001b[0miprot\u001b[0m\u001b[0;34m.\u001b[0m\u001b[0mreadMessageBegin\u001b[0m\u001b[0;34m(\u001b[0m\u001b[0;34m)\u001b[0m\u001b[0;34m\u001b[0m\u001b[0;34m\u001b[0m\u001b[0m\n\u001b[0m\u001b[1;32m   2646\u001b[0m         \u001b[0;32mif\u001b[0m \u001b[0mmtype\u001b[0m \u001b[0;34m==\u001b[0m \u001b[0mTMessageType\u001b[0m\u001b[0;34m.\u001b[0m\u001b[0mEXCEPTION\u001b[0m\u001b[0;34m:\u001b[0m\u001b[0;34m\u001b[0m\u001b[0;34m\u001b[0m\u001b[0m\n\u001b[1;32m   2647\u001b[0m             \u001b[0mx\u001b[0m \u001b[0;34m=\u001b[0m \u001b[0mTApplicationException\u001b[0m\u001b[0;34m(\u001b[0m\u001b[0;34m)\u001b[0m\u001b[0;34m\u001b[0m\u001b[0;34m\u001b[0m\u001b[0m\n",
      "\u001b[0;32m~/opt/anaconda3/envs/ohad-hive-metastore-spark-presto/lib/python3.7/site-packages/thrift/protocol/TBinaryProtocol.py\u001b[0m in \u001b[0;36mreadMessageBegin\u001b[0;34m(self)\u001b[0m\n\u001b[1;32m    132\u001b[0m \u001b[0;34m\u001b[0m\u001b[0m\n\u001b[1;32m    133\u001b[0m     \u001b[0;32mdef\u001b[0m \u001b[0mreadMessageBegin\u001b[0m\u001b[0;34m(\u001b[0m\u001b[0mself\u001b[0m\u001b[0;34m)\u001b[0m\u001b[0;34m:\u001b[0m\u001b[0;34m\u001b[0m\u001b[0;34m\u001b[0m\u001b[0m\n\u001b[0;32m--> 134\u001b[0;31m         \u001b[0msz\u001b[0m \u001b[0;34m=\u001b[0m \u001b[0mself\u001b[0m\u001b[0;34m.\u001b[0m\u001b[0mreadI32\u001b[0m\u001b[0;34m(\u001b[0m\u001b[0;34m)\u001b[0m\u001b[0;34m\u001b[0m\u001b[0;34m\u001b[0m\u001b[0m\n\u001b[0m\u001b[1;32m    135\u001b[0m         \u001b[0;32mif\u001b[0m \u001b[0msz\u001b[0m \u001b[0;34m<\u001b[0m \u001b[0;36m0\u001b[0m\u001b[0;34m:\u001b[0m\u001b[0;34m\u001b[0m\u001b[0;34m\u001b[0m\u001b[0m\n\u001b[1;32m    136\u001b[0m             \u001b[0mversion\u001b[0m \u001b[0;34m=\u001b[0m \u001b[0msz\u001b[0m \u001b[0;34m&\u001b[0m \u001b[0mTBinaryProtocol\u001b[0m\u001b[0;34m.\u001b[0m\u001b[0mVERSION_MASK\u001b[0m\u001b[0;34m\u001b[0m\u001b[0;34m\u001b[0m\u001b[0m\n",
      "\u001b[0;32m~/opt/anaconda3/envs/ohad-hive-metastore-spark-presto/lib/python3.7/site-packages/thrift/protocol/TBinaryProtocol.py\u001b[0m in \u001b[0;36mreadI32\u001b[0;34m(self)\u001b[0m\n\u001b[1;32m    215\u001b[0m \u001b[0;34m\u001b[0m\u001b[0m\n\u001b[1;32m    216\u001b[0m     \u001b[0;32mdef\u001b[0m \u001b[0mreadI32\u001b[0m\u001b[0;34m(\u001b[0m\u001b[0mself\u001b[0m\u001b[0;34m)\u001b[0m\u001b[0;34m:\u001b[0m\u001b[0;34m\u001b[0m\u001b[0;34m\u001b[0m\u001b[0m\n\u001b[0;32m--> 217\u001b[0;31m         \u001b[0mbuff\u001b[0m \u001b[0;34m=\u001b[0m \u001b[0mself\u001b[0m\u001b[0;34m.\u001b[0m\u001b[0mtrans\u001b[0m\u001b[0;34m.\u001b[0m\u001b[0mreadAll\u001b[0m\u001b[0;34m(\u001b[0m\u001b[0;36m4\u001b[0m\u001b[0;34m)\u001b[0m\u001b[0;34m\u001b[0m\u001b[0;34m\u001b[0m\u001b[0m\n\u001b[0m\u001b[1;32m    218\u001b[0m         \u001b[0mval\u001b[0m\u001b[0;34m,\u001b[0m \u001b[0;34m=\u001b[0m \u001b[0munpack\u001b[0m\u001b[0;34m(\u001b[0m\u001b[0;34m'!i'\u001b[0m\u001b[0;34m,\u001b[0m \u001b[0mbuff\u001b[0m\u001b[0;34m)\u001b[0m\u001b[0;34m\u001b[0m\u001b[0;34m\u001b[0m\u001b[0m\n\u001b[1;32m    219\u001b[0m         \u001b[0;32mreturn\u001b[0m \u001b[0mval\u001b[0m\u001b[0;34m\u001b[0m\u001b[0;34m\u001b[0m\u001b[0m\n",
      "\u001b[0;32m~/opt/anaconda3/envs/ohad-hive-metastore-spark-presto/lib/python3.7/site-packages/thrift/transport/TTransport.py\u001b[0m in \u001b[0;36mreadAll\u001b[0;34m(self, sz)\u001b[0m\n\u001b[1;32m     60\u001b[0m         \u001b[0mhave\u001b[0m \u001b[0;34m=\u001b[0m \u001b[0;36m0\u001b[0m\u001b[0;34m\u001b[0m\u001b[0;34m\u001b[0m\u001b[0m\n\u001b[1;32m     61\u001b[0m         \u001b[0;32mwhile\u001b[0m \u001b[0;34m(\u001b[0m\u001b[0mhave\u001b[0m \u001b[0;34m<\u001b[0m \u001b[0msz\u001b[0m\u001b[0;34m)\u001b[0m\u001b[0;34m:\u001b[0m\u001b[0;34m\u001b[0m\u001b[0;34m\u001b[0m\u001b[0m\n\u001b[0;32m---> 62\u001b[0;31m             \u001b[0mchunk\u001b[0m \u001b[0;34m=\u001b[0m \u001b[0mself\u001b[0m\u001b[0;34m.\u001b[0m\u001b[0mread\u001b[0m\u001b[0;34m(\u001b[0m\u001b[0msz\u001b[0m \u001b[0;34m-\u001b[0m \u001b[0mhave\u001b[0m\u001b[0;34m)\u001b[0m\u001b[0;34m\u001b[0m\u001b[0;34m\u001b[0m\u001b[0m\n\u001b[0m\u001b[1;32m     63\u001b[0m             \u001b[0mchunkLen\u001b[0m \u001b[0;34m=\u001b[0m \u001b[0mlen\u001b[0m\u001b[0;34m(\u001b[0m\u001b[0mchunk\u001b[0m\u001b[0;34m)\u001b[0m\u001b[0;34m\u001b[0m\u001b[0;34m\u001b[0m\u001b[0m\n\u001b[1;32m     64\u001b[0m             \u001b[0mhave\u001b[0m \u001b[0;34m+=\u001b[0m \u001b[0mchunkLen\u001b[0m\u001b[0;34m\u001b[0m\u001b[0;34m\u001b[0m\u001b[0m\n",
      "\u001b[0;32m~/opt/anaconda3/envs/ohad-hive-metastore-spark-presto/lib/python3.7/site-packages/thrift/transport/TTransport.py\u001b[0m in \u001b[0;36mread\u001b[0;34m(self, sz)\u001b[0m\n\u001b[1;32m    162\u001b[0m         \u001b[0;32mif\u001b[0m \u001b[0mlen\u001b[0m\u001b[0;34m(\u001b[0m\u001b[0mret\u001b[0m\u001b[0;34m)\u001b[0m \u001b[0;34m!=\u001b[0m \u001b[0;36m0\u001b[0m\u001b[0;34m:\u001b[0m\u001b[0;34m\u001b[0m\u001b[0;34m\u001b[0m\u001b[0m\n\u001b[1;32m    163\u001b[0m             \u001b[0;32mreturn\u001b[0m \u001b[0mret\u001b[0m\u001b[0;34m\u001b[0m\u001b[0;34m\u001b[0m\u001b[0m\n\u001b[0;32m--> 164\u001b[0;31m         \u001b[0mself\u001b[0m\u001b[0;34m.\u001b[0m\u001b[0m__rbuf\u001b[0m \u001b[0;34m=\u001b[0m \u001b[0mBufferIO\u001b[0m\u001b[0;34m(\u001b[0m\u001b[0mself\u001b[0m\u001b[0;34m.\u001b[0m\u001b[0m__trans\u001b[0m\u001b[0;34m.\u001b[0m\u001b[0mread\u001b[0m\u001b[0;34m(\u001b[0m\u001b[0mmax\u001b[0m\u001b[0;34m(\u001b[0m\u001b[0msz\u001b[0m\u001b[0;34m,\u001b[0m \u001b[0mself\u001b[0m\u001b[0;34m.\u001b[0m\u001b[0m__rbuf_size\u001b[0m\u001b[0;34m)\u001b[0m\u001b[0;34m)\u001b[0m\u001b[0;34m)\u001b[0m\u001b[0;34m\u001b[0m\u001b[0;34m\u001b[0m\u001b[0m\n\u001b[0m\u001b[1;32m    165\u001b[0m         \u001b[0;32mreturn\u001b[0m \u001b[0mself\u001b[0m\u001b[0;34m.\u001b[0m\u001b[0m__rbuf\u001b[0m\u001b[0;34m.\u001b[0m\u001b[0mread\u001b[0m\u001b[0;34m(\u001b[0m\u001b[0msz\u001b[0m\u001b[0;34m)\u001b[0m\u001b[0;34m\u001b[0m\u001b[0;34m\u001b[0m\u001b[0m\n\u001b[1;32m    166\u001b[0m \u001b[0;34m\u001b[0m\u001b[0m\n",
      "\u001b[0;32m~/opt/anaconda3/envs/ohad-hive-metastore-spark-presto/lib/python3.7/site-packages/thrift/transport/TSocket.py\u001b[0m in \u001b[0;36mread\u001b[0;34m(self, sz)\u001b[0m\n\u001b[1;32m    124\u001b[0m     \u001b[0;32mdef\u001b[0m \u001b[0mread\u001b[0m\u001b[0;34m(\u001b[0m\u001b[0mself\u001b[0m\u001b[0;34m,\u001b[0m \u001b[0msz\u001b[0m\u001b[0;34m)\u001b[0m\u001b[0;34m:\u001b[0m\u001b[0;34m\u001b[0m\u001b[0;34m\u001b[0m\u001b[0m\n\u001b[1;32m    125\u001b[0m         \u001b[0;32mtry\u001b[0m\u001b[0;34m:\u001b[0m\u001b[0;34m\u001b[0m\u001b[0;34m\u001b[0m\u001b[0m\n\u001b[0;32m--> 126\u001b[0;31m             \u001b[0mbuff\u001b[0m \u001b[0;34m=\u001b[0m \u001b[0mself\u001b[0m\u001b[0;34m.\u001b[0m\u001b[0mhandle\u001b[0m\u001b[0;34m.\u001b[0m\u001b[0mrecv\u001b[0m\u001b[0;34m(\u001b[0m\u001b[0msz\u001b[0m\u001b[0;34m)\u001b[0m\u001b[0;34m\u001b[0m\u001b[0;34m\u001b[0m\u001b[0m\n\u001b[0m\u001b[1;32m    127\u001b[0m         \u001b[0;32mexcept\u001b[0m \u001b[0msocket\u001b[0m\u001b[0;34m.\u001b[0m\u001b[0merror\u001b[0m \u001b[0;32mas\u001b[0m \u001b[0me\u001b[0m\u001b[0;34m:\u001b[0m\u001b[0;34m\u001b[0m\u001b[0;34m\u001b[0m\u001b[0m\n\u001b[1;32m    128\u001b[0m             if (e.args[0] == errno.ECONNRESET and\n",
      "\u001b[0;31mKeyboardInterrupt\u001b[0m: "
     ]
    }
   ],
   "source": [
    "from utils.showcase import create_showcase_table\n",
    "\n",
    "showcase_table_creation_using_hive(\"assets/test_csv.csv\")"
   ]
  },
  {
   "cell_type": "markdown",
   "id": "313b53fa",
   "metadata": {},
   "source": [
    "## Query the data"
   ]
  },
  {
   "cell_type": "markdown",
   "id": "1c136ad9",
   "metadata": {},
   "source": [
    "### Spark"
   ]
  },
  {
   "cell_type": "markdown",
   "id": "6c956447",
   "metadata": {},
   "source": [
    "Docs:\n",
    "- https://spark.apache.org/docs/latest/configuration.html\n",
    "- https://spark.apache.org/docs/latest/sql-data-sources-hive-tables.html"
   ]
  },
  {
   "cell_type": "code",
   "execution_count": null,
   "id": "f8332b35",
   "metadata": {},
   "outputs": [],
   "source": [
    "import os\n",
    "\n",
    "spark = (\n",
    "    SparkSession \n",
    "        .builder\n",
    "        .master(\"spark://localhost:7077\")\n",
    "        .appName(\"SparkHiveMetastoreTest\")\n",
    "        .config(\"spark.sql.uris\", \"thrift://localhost:9083\")\n",
    "        .config(\"hive.metastore.warehouse.dir\", \"thrift://localhost:9083\")\n",
    "        .enableHiveSupport()\n",
    "        .getOrCreate()\n",
    ")"
   ]
  },
  {
   "cell_type": "code",
   "execution_count": null,
   "id": "cc5803e1",
   "metadata": {},
   "outputs": [],
   "source": [
    "spark.sql(\"SHOW TABLES\").show()"
   ]
  },
  {
   "cell_type": "code",
   "execution_count": null,
   "id": "18ca95fc",
   "metadata": {},
   "outputs": [],
   "source": []
  }
 ],
 "metadata": {
  "kernelspec": {
   "display_name": "Python 3 (ipykernel)",
   "language": "python",
   "name": "python3"
  },
  "language_info": {
   "codemirror_mode": {
    "name": "ipython",
    "version": 3
   },
   "file_extension": ".py",
   "mimetype": "text/x-python",
   "name": "python",
   "nbconvert_exporter": "python",
   "pygments_lexer": "ipython3",
   "version": "3.7.11"
  }
 },
 "nbformat": 4,
 "nbformat_minor": 5
}
